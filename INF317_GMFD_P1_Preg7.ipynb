{
  "nbformat": 4,
  "nbformat_minor": 0,
  "metadata": {
    "colab": {
      "provenance": [],
      "authorship_tag": "ABX9TyO/f3f4H7i5jmREutaCLXVC",
      "include_colab_link": true
    },
    "kernelspec": {
      "name": "python3",
      "display_name": "Python 3"
    },
    "language_info": {
      "name": "python"
    }
  },
  "cells": [
    {
      "cell_type": "markdown",
      "metadata": {
        "id": "view-in-github",
        "colab_type": "text"
      },
      "source": [
        "<a href=\"https://colab.research.google.com/github/TsukiNekoDev/INF317-GMFD-P1-Preg7/blob/main/INF317_GMFD_P1_Preg7.ipynb\" target=\"_parent\"><img src=\"https://colab.research.google.com/assets/colab-badge.svg\" alt=\"Open In Colab\"/></a>"
      ]
    },
    {
      "cell_type": "markdown",
      "source": [
        "Con multiprocessing realizar el cálculo de pi"
      ],
      "metadata": {
        "id": "GHrQy6EcNobu"
      }
    },
    {
      "cell_type": "code",
      "execution_count": 1,
      "metadata": {
        "colab": {
          "base_uri": "https://localhost:8080/"
        },
        "id": "LZ9-qi7sNX_d",
        "outputId": "7b736240-dbc5-4cc1-c93b-fc3564a0c384"
      },
      "outputs": [
        {
          "output_type": "stream",
          "name": "stdout",
          "text": [
            "3.141592176124843\n"
          ]
        }
      ],
      "source": [
        "import math\n",
        "import multiprocessing as mp\n",
        "from multiprocessing import Pool\n",
        "\n",
        "def calpi(i,f):\n",
        "  v = []\n",
        "  for i in range(i,f):\n",
        "    if  i == 0:\n",
        "      continue\n",
        "    term = (1/i**2)\n",
        "    v.append(term)\n",
        "  return v\n",
        "\n",
        "\n",
        "if __name__ == \"__main__\":\n",
        "  lim = 1000000\n",
        "  parm = [((i*lim), (lim*(i+1))) for i in range(mp.cpu_count())]\n",
        "  pool = Pool()\n",
        "  res = pool.starmap(calpi, parm)\n",
        "  pi = math.sqrt(6 * sum(sum(res,[])))\n",
        "  print(pi)"
      ]
    }
  ]
}